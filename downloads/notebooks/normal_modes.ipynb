{
 "cells": [
  {
   "cell_type": "markdown",
   "metadata": {},
   "source": [
    "# Normal Modes of Vibration"
   ]
  },
  {
   "cell_type": "markdown",
   "metadata": {},
   "source": [
    "<!-- PELICAN_BEGIN_SUMMARY -->\n",
    "\n",
    "This post explores the use of symmetry to construct normal modes of molecular vibrations. \n",
    "<img src=\"https://github.com/jbechtel/jbechtel.github.io-source/blob/master/content/images/R9hxJ.jpg\" alt='[img: jpg]'>\n",
    "<video controls src=\"http://jbechtel.github.io-source/images/normal_modes.mp4\" />\n",
    "\n",
    "<!-- PELICAN_END_SUMMARY -->"
   ]
  },
  {
   "cell_type": "markdown",
   "metadata": {},
   "source": [
    "\n",
    "<img src=\"http://jbechtel.github.io/images/adps_cryst-01.png\" alt='[img: adps]'>"
   ]
  },
  {
   "cell_type": "markdown",
   "metadata": {},
   "source": [
    "\n",
    "<img src=\"../../images/R9hxJ.jpg\" alt='[img: jpg]'>\n",
    "<video controls src=\"../../images/normal_modes.mp4\" />\n",
    "\n",
    "<img src=\"http://jbechtel.github.io/images/adps_cryst-01.png\" alt='[img: adps]'>\n",
    "<img src=\"/Users/bechtel/github/jbechtel.github.io-source/content/images/images/R9hxJ.jpg\" alt='[img: jpg]'>\n",
    "<img src=\"../../images/normal_modes.mp4\" alt='[img: jpg]'>"
   ]
  },
  {
   "cell_type": "markdown",
   "metadata": {},
   "source": [
    "## Displacement DoFs\n",
    "\n",
    "The total number of degrees of freedom of a 3D molecule of $N$ atoms is $3N$ since each atom can displace in the $x$, $y$, or $z$ direction. This means that we can define a $3N$ dimensional vector-space that spans all of these degrees of freedom. A coordinate in this space is expressed as a $3N$ dimensional vector $\\mathbf{x}$. The basis that one first considers in this space is the simple Cartesian basis. However, a simpler basis is achievable which separates this space into irreducible subspaces. \n",
    "\n",
    "## Sym Representation\n",
    "\n",
    "Vectors $\\mathbf{x}$ transform as \n",
    "$$\\mathbf{x}' = \\mathbf{M}^{(\\mathbf{x})}\\mathbf{x}$$\n",
    "\n",
    "given a representation $\\mathbf{M}$ of the point group of the molecule. Given a new basis, $$\\mathbf{\\eta}=\\mathbf{Q}\\mathbf{x}$$, what is the symmetry representaiton in the new basis? Well, first let's write down all of the transformations that we can define. We already showed how $\\mathbf{x}$ transforms, and we can equivalently write how a symmetry operation acts on $\\mathbf{\\eta}$ as $$\\mathbf{\\eta}' = \\mathbf{M}^{(\\mathbf{\\eta})} \\mathbf{\\eta}$$. \n",
    "\n",
    "Now we can combine these equations to find:\n",
    "$$\n",
    "\\begin{align}\n",
    "\\mathbf{\\eta}' &= \\mathbf{M}^{(\\mathbf{\\eta})} \\mathbf{\\eta}\\\\\n",
    "&=\\mathbf{M}^{(\\mathbf{\\eta})} \\mathbf{Q}\\mathbf{x}\\\\\n",
    "&=\\mathbf{Q}\\mathbf{x}'\\\\\n",
    "&=\\mathbf{Q}\\mathbf{M}^{(\\mathbf{x})}\\mathbf{x}\\\\\n",
    "\\end{align}\n",
    "$$\n",
    "Hence \n",
    "$$\n",
    "\\begin{align}\n",
    "\\implies \\mathbf{M}^{(\\mathbf{\\eta})} \\mathbf{Q}&=\\mathbf{Q}\\mathbf{M}^{(\\mathbf{x})}\\\\\n",
    "\\mathbf{M}^{(\\mathbf{\\eta})} &=\\mathbf{Q}\\mathbf{M}^{(\\mathbf{x})} \\mathbf{Q}^{\\top}\\\\\n",
    "\\end{align}\n",
    "$$\n",
    "where $\\mathbf{Q}^{-1} = \\mathbf{Q}^{\\top}$\n",
    "\n",
    "Our goal is to find a linear transformation $\\mathbf{Q}$ such that $\\mathbf{M}^{(\\mathbf{\\eta})}$ is block diagonal.\n",
    "\n",
    "It turns out that, given a symmetry representation $\\mathbf{M}^{(\\mathbf{x})}$, there are algorithms that exist to find $\\mathbf{Q}$, which we explore below. \n",
    "\n",
    "##  "
   ]
  },
  {
   "cell_type": "code",
   "execution_count": null,
   "metadata": {},
   "outputs": [],
   "source": []
  }
 ],
 "metadata": {
  "kernelspec": {
   "display_name": "Python 3",
   "language": "python",
   "name": "python3"
  },
  "language_info": {
   "codemirror_mode": {
    "name": "ipython",
    "version": 3
   },
   "file_extension": ".py",
   "mimetype": "text/x-python",
   "name": "python",
   "nbconvert_exporter": "python",
   "pygments_lexer": "ipython3",
   "version": "3.5.4"
  }
 },
 "nbformat": 4,
 "nbformat_minor": 2
}
