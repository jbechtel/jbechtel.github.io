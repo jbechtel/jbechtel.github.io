{
 "cells": [
  {
   "cell_type": "markdown",
   "metadata": {},
   "source": [
    "# March Madness"
   ]
  },
  {
   "cell_type": "markdown",
   "metadata": {},
   "source": [
    "<!-- PELICAN_BEGIN_SUMMARY -->\n",
    "\n",
    "This year I participated in [Kaggle's March Madness Competition](https://www.kaggle.com/c/mens-machine-learning-competition-2018). However, this isn't your typical office pool; instead participants are tasked with assigning every possible match-up in the field of 64 with a probability that a certain team will win.\n",
    "\n",
    "In this post, I will describe my simple approach to building a machine learning model to predict winning percentages for March Madness games. Then, we'll see how it performed for this years competition!\n",
    "\n",
    "Here's a sneak peak of my predicted bracket using machine learning...\n",
    "<img src=\"http://jbechtel.github.io/images/predicted_bracket.png\" alt='[img: bracket]'>\n",
    "\n",
    "\n",
    "<!-- PELICAN_END_SUMMARY -->"
   ]
  },
  {
   "cell_type": "markdown",
   "metadata": {},
   "source": [
    "## Introduction\n",
    "\n",
    "The best part of the March Madness kaggle competition is the data. Kaggle proves formatted regular season stats, play-by-play data, Tourney match-ups and results plus more running back to 2003, and some data back to 1985. \n",
    "\n",
    "Unlike normal bracket challenges, Kaggle doesn't ask you to predict just the winner of each game. Instead they want the probability that a team will win. Furthermore, we have to predict win probabilities for every possible game, which for a $64$-slot bracket, can be calculated as $\\sum_{i=1}^{64} (64-i)$, and comes to a grand total of $2016$ games. \n",
    "\n",
    "Submissions then comprise a $2016\\times2$ vector where each row represents one of the possible matchups where the first column includes a string that defines a matchup such as `2016_North Carolina_Clemson`, and the second column represents the probability that the first team (UNC in this case) wins, which we call $y_p$. \n",
    "\n",
    "\n"
   ]
  },
  {
   "cell_type": "code",
   "execution_count": 22,
   "metadata": {},
   "outputs": [
    {
     "data": {
      "text/html": [
       "<div>\n",
       "<style scoped>\n",
       "    .dataframe tbody tr th:only-of-type {\n",
       "        vertical-align: middle;\n",
       "    }\n",
       "\n",
       "    .dataframe tbody tr th {\n",
       "        vertical-align: top;\n",
       "    }\n",
       "\n",
       "    .dataframe thead th {\n",
       "        text-align: right;\n",
       "    }\n",
       "</style>\n",
       "<table border=\"1\" class=\"dataframe\">\n",
       "  <thead>\n",
       "    <tr style=\"text-align: right;\">\n",
       "      <th></th>\n",
       "      <th>ID</th>\n",
       "      <th>Pred</th>\n",
       "    </tr>\n",
       "  </thead>\n",
       "  <tbody>\n",
       "    <tr>\n",
       "      <th>0</th>\n",
       "      <td>2018_1104_1112</td>\n",
       "      <td>0.205233</td>\n",
       "    </tr>\n",
       "    <tr>\n",
       "      <th>1</th>\n",
       "      <td>2018_1104_1113</td>\n",
       "      <td>0.535824</td>\n",
       "    </tr>\n",
       "    <tr>\n",
       "      <th>2</th>\n",
       "      <td>2018_1104_1116</td>\n",
       "      <td>0.370760</td>\n",
       "    </tr>\n",
       "    <tr>\n",
       "      <th>3</th>\n",
       "      <td>2018_1104_1120</td>\n",
       "      <td>0.389872</td>\n",
       "    </tr>\n",
       "    <tr>\n",
       "      <th>4</th>\n",
       "      <td>2018_1104_1137</td>\n",
       "      <td>0.665728</td>\n",
       "    </tr>\n",
       "  </tbody>\n",
       "</table>\n",
       "</div>"
      ],
      "text/plain": [
       "               ID      Pred\n",
       "0  2018_1104_1112  0.205233\n",
       "1  2018_1104_1113  0.535824\n",
       "2  2018_1104_1116  0.370760\n",
       "3  2018_1104_1120  0.389872\n",
       "4  2018_1104_1137  0.665728"
      ]
     },
     "execution_count": 22,
     "metadata": {},
     "output_type": "execute_result"
    }
   ],
   "source": [
    "import pandas as pd\n",
    "final_predictions = pd.read_csv('/Users/bechtel/Downloads/adv_stats_elo_predictions.csv')\n",
    "df_teams = pd.read_csv('/Users/bechtel/Kaggle/NCAA_mens_tourney/Stage2/Teams.csv')\n",
    "final_predictions.head()"
   ]
  },
  {
   "cell_type": "markdown",
   "metadata": {},
   "source": [
    "In the final submission format the match-up ID involves team IDs as defined below"
   ]
  },
  {
   "cell_type": "code",
   "execution_count": 23,
   "metadata": {},
   "outputs": [
    {
     "data": {
      "text/html": [
       "<div>\n",
       "<style scoped>\n",
       "    .dataframe tbody tr th:only-of-type {\n",
       "        vertical-align: middle;\n",
       "    }\n",
       "\n",
       "    .dataframe tbody tr th {\n",
       "        vertical-align: top;\n",
       "    }\n",
       "\n",
       "    .dataframe thead th {\n",
       "        text-align: right;\n",
       "    }\n",
       "</style>\n",
       "<table border=\"1\" class=\"dataframe\">\n",
       "  <thead>\n",
       "    <tr style=\"text-align: right;\">\n",
       "      <th></th>\n",
       "      <th>TeamID</th>\n",
       "      <th>TeamName</th>\n",
       "      <th>FirstD1Season</th>\n",
       "      <th>LastD1Season</th>\n",
       "    </tr>\n",
       "  </thead>\n",
       "  <tbody>\n",
       "    <tr>\n",
       "      <th>0</th>\n",
       "      <td>1101</td>\n",
       "      <td>Abilene Chr</td>\n",
       "      <td>2014</td>\n",
       "      <td>2018</td>\n",
       "    </tr>\n",
       "    <tr>\n",
       "      <th>1</th>\n",
       "      <td>1102</td>\n",
       "      <td>Air Force</td>\n",
       "      <td>1985</td>\n",
       "      <td>2018</td>\n",
       "    </tr>\n",
       "    <tr>\n",
       "      <th>2</th>\n",
       "      <td>1103</td>\n",
       "      <td>Akron</td>\n",
       "      <td>1985</td>\n",
       "      <td>2018</td>\n",
       "    </tr>\n",
       "    <tr>\n",
       "      <th>3</th>\n",
       "      <td>1104</td>\n",
       "      <td>Alabama</td>\n",
       "      <td>1985</td>\n",
       "      <td>2018</td>\n",
       "    </tr>\n",
       "    <tr>\n",
       "      <th>4</th>\n",
       "      <td>1105</td>\n",
       "      <td>Alabama A&amp;M</td>\n",
       "      <td>2000</td>\n",
       "      <td>2018</td>\n",
       "    </tr>\n",
       "  </tbody>\n",
       "</table>\n",
       "</div>"
      ],
      "text/plain": [
       "   TeamID     TeamName  FirstD1Season  LastD1Season\n",
       "0    1101  Abilene Chr           2014          2018\n",
       "1    1102    Air Force           1985          2018\n",
       "2    1103        Akron           1985          2018\n",
       "3    1104      Alabama           1985          2018\n",
       "4    1105  Alabama A&M           2000          2018"
      ]
     },
     "execution_count": 23,
     "metadata": {},
     "output_type": "execute_result"
    }
   ],
   "source": [
    "df_teams.head()"
   ]
  },
  {
   "cell_type": "markdown",
   "metadata": {},
   "source": [
    "## Measuring Success\n",
    "\n",
    "\n",
    "The measure of successful classification is judged as the [*log loss*](http://scikit-learn.org/stable/modules/generated/sklearn.metrics.log_loss.html). This is defined as \n",
    "\n",
    "$$-\\text{log} P(y_t|y_p) = -(y_t \\text{log}(y_p) + (1 - y_t) \\text{log}(1 - y_p))$$. \n",
    "\n",
    "When true, $y_t$ is 1, and $y_p$ is probability that $y_t$ is true. Hence if you predict an outcome $y_p=100\\%$ and it turns out that the outcome is true $y_t=1$ then \n",
    "$$-\\text{log} P(y_t|yp) = -1 * \\text{log}(1.0) = 0$$.\n",
    "Thus a perfect log loss score is 0. \n",
    "\n",
    "To get a better intuition of log loss let's remind ourselves of the shape of the log function. "
   ]
  },
  {
   "cell_type": "code",
   "execution_count": 50,
   "metadata": {},
   "outputs": [
    {
     "data": {
      "image/png": "[encoded data removed]",
      "text/plain": [
       "<matplotlib.figure.Figure at 0x1a1bdf37b8>"
      ]
     },
     "metadata": {},
     "output_type": "display_data"
    }
   ],
   "source": [
    "import numpy as np\n",
    "import matplotlib.pyplot as plt\n",
    "x = np.linspace(0.001,0.999,100)\n",
    "plt.plot(x,-np.log(x),label='$y_t=1$')\n",
    "plt.plot(x,-np.log(1-x),label='$y_t=0$')\n",
    "plt.xlabel('$y_p$')\n",
    "plt.ylabel('-log $P(y_t|y_p)$')\n",
    "plt.legend()\n",
    "plt.show()"
   ]
  },
  {
   "cell_type": "markdown",
   "metadata": {},
   "source": [
    "This plots the log loss of a prediction $y_p$ (x-axis) which is the probability that the outcome is true ($y_t=1$). Hence to find the log-loss given $y_p$ when the outcome is true, follow the blue curve. As expected the log loss is zero when our prediction of $y_p=100\\%$ matches the outcome $y_p=1$. However, when the outcome is false ($y_t=0$), you can find the log-loss by following the orange curve.\n",
    "\n",
    "As we can see, log-loss severely penalizes high probability mistakes. That is, if we predict a team wins with a 99% probability, and then they lose, the log-loss increases dramatically.\n",
    "\n",
    "What happens if we assume that every game is a coin toss? I.e. the probability of a team winning is just 50%. \n",
    "\n",
    "Plugging into the formula: $-\\text{log} P(y_t|yp) = -1 * \\text{log}(0.5) = 0.6931$.\n",
    "\n",
    "This sets a good baseline. If we build a model, it should at least predict winning percentages with a log-loss less than 0.6931, otherwise just assign 50% to every game..."
   ]
  },
  {
   "cell_type": "markdown",
   "metadata": {},
   "source": []
  },
  {
   "cell_type": "markdown",
   "metadata": {},
   "source": [
    "## Building a Machine Learning Model\n",
    "\n",
    "Now, given a boat load of data, how do we go about constructing a probabilistic classification model. [Sci-kit learn](http://scikit-learn.org/stable/tutorial/machine_learning_map/index.html) provides a useful flow chart to aid in model selection:\n",
    "\n",
    "<img src=\"http://jbechtel.github.io/images/ml_map.png\" alt='[img: bracket]'>\n",
    "\n",
    "First, this is a classification problem, so the techniques that we explored in the [last post](http://jonathonbechtel.com/blog/2018/02/06/wines/) are all at our disposal. \n",
    "\n",
    "Although, sci-kit learn doesn't include it in the flow chart, logistic regression is a useful model for classification problems. \n",
    "\n",
    "In particular fitting a logistic regression model corresponds to [minimizing the log loss](https://en.wikipedia.org/wiki/Logistic_regression#Model_fitting), which makes it a natural candidate. However, there are other possibilities such as neural nets, random forests, and support vector machines. "
   ]
  },
  {
   "cell_type": "markdown",
   "metadata": {},
   "source": [
    "## Feature Engineering\n",
    "\n",
    "\n",
    "Before we settle on a classification algorithm, let's consider the feature space. That is, what data is the most important in determining a game's outcome. \n",
    "\n",
    "Brainstorming some possibilities:\n",
    "\n",
    "1) Seed. We expect a 1-seed to defeat a 16-seed.  \n",
    "\n",
    "   An obvious place to start is team Seed. One of the [kaggle starter kernels](https://www.kaggle.com/juliaelliott/basic-starter-kernel-ncaa-men-s-dataset) employs this strategy, and it performs reasonably well. However, since we have so much data, I think it makes sense to feed our model with more descriptors than just Seed.\n",
    "      \n",
    "      \n",
    "2) Season Stats. A team that averages 70 points a game might defeat a 60 ppg team.\n",
    "  \n",
    "  There are many different stats in [basketball](https://stats.nba.com/help/glossary/). But some of the most predictive stats, so-called *Advanced Stats*, incorporate several statistics. Many of these advanced stats have been implemented by another [Kaggler in this notebook](https://www.kaggle.com/lnatml/feature-engineering-with-advanced-stats), so we will use this as a starting point. However, since we are just interested in predicting Tourney results, we will use the season-averaged advanced stats, so we have a picture of a team's performance when heading into the March Madness. \n",
    "  \n",
    "3) [Elo rating](https://en.wikipedia.org/wiki/Elo_rating_system). A team that has a 25-6 record against strong opponents should defeat a team with a 25-6 record against weak opponents. \n",
    "\n",
    "  The Elo rating was first devised as a chess ranking system, but has since spread to other sports and competitive games. Fortunately, the Elo ratings were also implemented in a Kaggle notebook [here](https://www.kaggle.com/lpkirwin/fivethirtyeight-elo-ratings), so we will calculate each Team's Elo rating at the end of the regular season. "
   ]
  },
  {
   "cell_type": "markdown",
   "metadata": {},
   "source": [
    "### Feature Vectors / Design Matrix\n",
    "\n",
    "For each team we will concatentate a handful of season-averaged *Advanced Stats* and the team's *Elo* rating.\n",
    "\n",
    "Then, the database of training data looks like:"
   ]
  },
  {
   "cell_type": "code",
   "execution_count": 62,
   "metadata": {},
   "outputs": [
    {
     "data": {
      "text/html": [
       "<div>\n",
       "<style scoped>\n",
       "    .dataframe tbody tr th:only-of-type {\n",
       "        vertical-align: middle;\n",
       "    }\n",
       "\n",
       "    .dataframe tbody tr th {\n",
       "        vertical-align: top;\n",
       "    }\n",
       "\n",
       "    .dataframe thead th {\n",
       "        text-align: right;\n",
       "    }\n",
       "</style>\n",
       "<table border=\"1\" class=\"dataframe\">\n",
       "  <thead>\n",
       "    <tr style=\"text-align: right;\">\n",
       "      <th></th>\n",
       "      <th>TeamID</th>\n",
       "      <th>Season</th>\n",
       "      <th>WScore</th>\n",
       "      <th>LScore</th>\n",
       "      <th>WFGM</th>\n",
       "      <th>WFGA</th>\n",
       "      <th>WFGM3</th>\n",
       "      <th>WFGA3</th>\n",
       "      <th>WFTM</th>\n",
       "      <th>WFTA</th>\n",
       "      <th>...</th>\n",
       "      <th>LFTAR</th>\n",
       "      <th>WORP</th>\n",
       "      <th>LORP</th>\n",
       "      <th>WDRP</th>\n",
       "      <th>LDRP</th>\n",
       "      <th>WRP</th>\n",
       "      <th>LRP</th>\n",
       "      <th>WPIE</th>\n",
       "      <th>LPIE</th>\n",
       "      <th>SeasonELO</th>\n",
       "    </tr>\n",
       "  </thead>\n",
       "  <tbody>\n",
       "    <tr>\n",
       "      <th>0</th>\n",
       "      <td>1101</td>\n",
       "      <td>2014</td>\n",
       "      <td>78.952381</td>\n",
       "      <td>62.809524</td>\n",
       "      <td>26.761905</td>\n",
       "      <td>53.000000</td>\n",
       "      <td>6.047619</td>\n",
       "      <td>16.190476</td>\n",
       "      <td>19.380952</td>\n",
       "      <td>26.476190</td>\n",
       "      <td>...</td>\n",
       "      <td>0.417375</td>\n",
       "      <td>0.327356</td>\n",
       "      <td>0.250436</td>\n",
       "      <td>0.749564</td>\n",
       "      <td>0.672644</td>\n",
       "      <td>0.548172</td>\n",
       "      <td>0.481404</td>\n",
       "      <td>0.705079</td>\n",
       "      <td>0.294921</td>\n",
       "      <td>1330.426954</td>\n",
       "    </tr>\n",
       "    <tr>\n",
       "      <th>1</th>\n",
       "      <td>1101</td>\n",
       "      <td>2015</td>\n",
       "      <td>74.892857</td>\n",
       "      <td>57.964286</td>\n",
       "      <td>26.285714</td>\n",
       "      <td>51.107143</td>\n",
       "      <td>7.392857</td>\n",
       "      <td>17.607143</td>\n",
       "      <td>14.928571</td>\n",
       "      <td>21.500000</td>\n",
       "      <td>...</td>\n",
       "      <td>0.313740</td>\n",
       "      <td>0.324596</td>\n",
       "      <td>0.254111</td>\n",
       "      <td>0.745889</td>\n",
       "      <td>0.675404</td>\n",
       "      <td>0.556259</td>\n",
       "      <td>0.446817</td>\n",
       "      <td>0.716104</td>\n",
       "      <td>0.283896</td>\n",
       "      <td>1215.475143</td>\n",
       "    </tr>\n",
       "    <tr>\n",
       "      <th>2</th>\n",
       "      <td>1101</td>\n",
       "      <td>2016</td>\n",
       "      <td>78.777778</td>\n",
       "      <td>67.333333</td>\n",
       "      <td>27.037037</td>\n",
       "      <td>54.074074</td>\n",
       "      <td>6.777778</td>\n",
       "      <td>16.851852</td>\n",
       "      <td>17.925926</td>\n",
       "      <td>24.148148</td>\n",
       "      <td>...</td>\n",
       "      <td>0.429980</td>\n",
       "      <td>0.276710</td>\n",
       "      <td>0.242496</td>\n",
       "      <td>0.757504</td>\n",
       "      <td>0.723290</td>\n",
       "      <td>0.530179</td>\n",
       "      <td>0.469067</td>\n",
       "      <td>0.624263</td>\n",
       "      <td>0.375737</td>\n",
       "      <td>1222.173273</td>\n",
       "    </tr>\n",
       "    <tr>\n",
       "      <th>3</th>\n",
       "      <td>1101</td>\n",
       "      <td>2017</td>\n",
       "      <td>74.320000</td>\n",
       "      <td>66.200000</td>\n",
       "      <td>24.840000</td>\n",
       "      <td>51.720000</td>\n",
       "      <td>7.360000</td>\n",
       "      <td>19.040000</td>\n",
       "      <td>17.280000</td>\n",
       "      <td>24.760000</td>\n",
       "      <td>...</td>\n",
       "      <td>0.332054</td>\n",
       "      <td>0.292514</td>\n",
       "      <td>0.253259</td>\n",
       "      <td>0.746741</td>\n",
       "      <td>0.707486</td>\n",
       "      <td>0.532922</td>\n",
       "      <td>0.470942</td>\n",
       "      <td>0.624039</td>\n",
       "      <td>0.375961</td>\n",
       "      <td>1238.537655</td>\n",
       "    </tr>\n",
       "    <tr>\n",
       "      <th>4</th>\n",
       "      <td>1102</td>\n",
       "      <td>2003</td>\n",
       "      <td>63.678571</td>\n",
       "      <td>50.571429</td>\n",
       "      <td>20.821429</td>\n",
       "      <td>39.571429</td>\n",
       "      <td>7.000000</td>\n",
       "      <td>15.607143</td>\n",
       "      <td>15.035714</td>\n",
       "      <td>21.928571</td>\n",
       "      <td>...</td>\n",
       "      <td>0.349808</td>\n",
       "      <td>0.287636</td>\n",
       "      <td>0.250215</td>\n",
       "      <td>0.749785</td>\n",
       "      <td>0.712364</td>\n",
       "      <td>0.541445</td>\n",
       "      <td>0.451335</td>\n",
       "      <td>0.730198</td>\n",
       "      <td>0.269802</td>\n",
       "      <td>1445.178904</td>\n",
       "    </tr>\n",
       "  </tbody>\n",
       "</table>\n",
       "<p>5 rows × 58 columns</p>\n",
       "</div>"
      ],
      "text/plain": [
       "   TeamID  Season     WScore     LScore       WFGM       WFGA     WFGM3  \\\n",
       "0    1101    2014  78.952381  62.809524  26.761905  53.000000  6.047619   \n",
       "1    1101    2015  74.892857  57.964286  26.285714  51.107143  7.392857   \n",
       "2    1101    2016  78.777778  67.333333  27.037037  54.074074  6.777778   \n",
       "3    1101    2017  74.320000  66.200000  24.840000  51.720000  7.360000   \n",
       "4    1102    2003  63.678571  50.571429  20.821429  39.571429  7.000000   \n",
       "\n",
       "       WFGA3       WFTM       WFTA     ...          LFTAR      WORP      LORP  \\\n",
       "0  16.190476  19.380952  26.476190     ...       0.417375  0.327356  0.250436   \n",
       "1  17.607143  14.928571  21.500000     ...       0.313740  0.324596  0.254111   \n",
       "2  16.851852  17.925926  24.148148     ...       0.429980  0.276710  0.242496   \n",
       "3  19.040000  17.280000  24.760000     ...       0.332054  0.292514  0.253259   \n",
       "4  15.607143  15.035714  21.928571     ...       0.349808  0.287636  0.250215   \n",
       "\n",
       "       WDRP      LDRP       WRP       LRP      WPIE      LPIE    SeasonELO  \n",
       "0  0.749564  0.672644  0.548172  0.481404  0.705079  0.294921  1330.426954  \n",
       "1  0.745889  0.675404  0.556259  0.446817  0.716104  0.283896  1215.475143  \n",
       "2  0.757504  0.723290  0.530179  0.469067  0.624263  0.375737  1222.173273  \n",
       "3  0.746741  0.707486  0.532922  0.470942  0.624039  0.375961  1238.537655  \n",
       "4  0.749785  0.712364  0.541445  0.451335  0.730198  0.269802  1445.178904  \n",
       "\n",
       "[5 rows x 58 columns]"
      ]
     },
     "execution_count": 62,
     "metadata": {},
     "output_type": "execute_result"
    }
   ],
   "source": [
    "# Example Training Data.\n",
    "# Each Row\n",
    "training_data = pd.read_csv('/Users/bechtel/Kaggle/NCAA_mens_tourney/training_data.csv')\n",
    "training_data.head()"
   ]
  },
  {
   "cell_type": "markdown",
   "metadata": {},
   "source": [
    "Here, we see some of the stats that I used as descriptors. `WScore` is the average points scored among wins, while `LScore` is the average score in losses. Also, notice the last column which lists the team's SeasonELO rating for that season. \n",
    "\n",
    "A list of all of the training features is given below."
   ]
  },
  {
   "cell_type": "code",
   "execution_count": 65,
   "metadata": {},
   "outputs": [
    {
     "data": {
      "text/plain": [
       "Index(['TeamID', 'Season', 'WScore', 'LScore', 'WFGM', 'WFGA', 'WFGM3',\n",
       "       'WFGA3', 'WFTM', 'WFTA', 'WOR', 'WDR', 'WAst', 'WTO', 'WStl', 'WBlk',\n",
       "       'WPF', 'LFGM', 'LFGA', 'LFGM3', 'LFGA3', 'LFTM', 'LFTA', 'LOR', 'LDR',\n",
       "       'LAst', 'LTO', 'LStl', 'LBlk', 'LPF', 'WPts', 'LPts', 'Pos', 'WOffRtg',\n",
       "       'LOffRtg', 'WDefRtg', 'LDefRtg', 'WNetRtg', 'LNetRtg', 'WAstR', 'LAstR',\n",
       "       'WTOR', 'LTOR', 'WTSP', 'LTSP', 'WeFGP', 'LeFGP', 'WFTAR', 'LFTAR',\n",
       "       'WORP', 'LORP', 'WDRP', 'LDRP', 'WRP', 'LRP', 'WPIE', 'LPIE',\n",
       "       'SeasonELO'],\n",
       "      dtype='object')"
      ]
     },
     "execution_count": 65,
     "metadata": {},
     "output_type": "execute_result"
    }
   ],
   "source": [
    "training_data.columns"
   ]
  },
  {
   "cell_type": "markdown",
   "metadata": {},
   "source": [
    "Hence each team has many descriptors for its regular season performace. Also note that `TeamID` and `Season` aren't actually part of the feature vector, they are just included to make it more readable. "
   ]
  },
  {
   "cell_type": "markdown",
   "metadata": {},
   "source": [
    "## Set up Classification Problem\n",
    "\n",
    "Now how do we set up our labels and features for this classification problem?\n",
    "\n",
    "We are going to be training on all of the past tournaments for which we have data. This includes the 2003-2017 seasons. \n",
    "\n",
    "For each Tourney game, we will describe it by the year, name of the first team: t1, and name of the second team: t2. The label describing the outcome is y, which equals 1 when the first team wins, and 0 if the second team wins. \n",
    "\n",
    "The feature vector, $x$, for this game is the difference of the first team's feature vector, $f_1$ and the second team's feature vector, $f_2$:\n",
    "\n",
    "$$ \\vec{x} = \\vec{f_1} - \\vec{f_2}.$$\n",
    "\n",
    "Then we build our training data as a list of all of the $\\vec{x}$'s, and the labels are the list of results, y. \n",
    "\n",
    "Just in case, we will also include all of the data where the names of the first and second team are switched. \n",
    "\n"
   ]
  },
  {
   "cell_type": "markdown",
   "metadata": {},
   "source": [
    "## Train Model\n",
    "\n",
    "Now we can use any of our favorite classification algorithms to build our model. I tried several, and settled on logistic regresssion which naturally outputs probabilities that a certain example will result in a specified outcome.\n",
    "\n",
    "### Logistic Regression, briefly. \n",
    "\n",
    "Essentially, logistic regression maps a feature space $x\\in\\mathbb{R}$ to a probability $\\mathbf{P}(x)$ using a logistic function: \n",
    "\n",
    "$$ \\mathbf{P}(x) = \\frac{1}{1+e^{-(\\beta_0 + \\beta_1 x)}} $$\n",
    "\n",
    "The parameters $\\beta_0$ and $\\beta_1$ are estimated while training the model. "
   ]
  },
  {
   "cell_type": "code",
   "execution_count": 69,
   "metadata": {},
   "outputs": [
    {
     "data": {
      "image/png": "[encoded data removed]",
      "text/plain": [
       "<matplotlib.figure.Figure at 0x1a1b415c18>"
      ]
     },
     "metadata": {},
     "output_type": "display_data"
    }
   ],
   "source": [
    "# plot logistic function\n",
    "x = np.linspace(-5,5,100)\n",
    "plt.plot(x,1./(1.+np.exp(-x)))\n",
    "plt.ylabel('$\\mathbf{P}(x)$')\n",
    "plt.xlabel('x, (feature value)')\n",
    "plt.show()"
   ]
  },
  {
   "cell_type": "markdown",
   "metadata": {},
   "source": [
    "### Fitting and Validation\n",
    "\n",
    "Of course, we want to avoid overfitting, so we use cross validation when training our model, and we also exhaustively search the space of hyperparameters to find their appropriate values using the `GridCV` function from sci-kit learn. \n",
    "\n",
    "In the end, I achieved log-losses around ~0.5 - 0.6 using logistic regression, which is at least better than assigning 50% probabilties to every game (log-loss 0.6931). "
   ]
  },
  {
   "cell_type": "code",
   "execution_count": 72,
   "metadata": {},
   "outputs": [
    {
     "data": {
      "text/html": [
       "<div>\n",
       "<style scoped>\n",
       "    .dataframe tbody tr th:only-of-type {\n",
       "        vertical-align: middle;\n",
       "    }\n",
       "\n",
       "    .dataframe tbody tr th {\n",
       "        vertical-align: top;\n",
       "    }\n",
       "\n",
       "    .dataframe thead th {\n",
       "        text-align: right;\n",
       "    }\n",
       "</style>\n",
       "<table border=\"1\" class=\"dataframe\">\n",
       "  <thead>\n",
       "    <tr style=\"text-align: right;\">\n",
       "      <th></th>\n",
       "      <th>classifier</th>\n",
       "      <th>train_score</th>\n",
       "      <th>test_score</th>\n",
       "      <th>training_time</th>\n",
       "    </tr>\n",
       "  </thead>\n",
       "  <tbody>\n",
       "    <tr>\n",
       "      <th>0</th>\n",
       "      <td>Logistic Regression</td>\n",
       "      <td>0.519119</td>\n",
       "      <td>0.570086</td>\n",
       "      <td>0.539535</td>\n",
       "    </tr>\n",
       "    <tr>\n",
       "      <th>1</th>\n",
       "      <td>Gradient Boosting Classifier</td>\n",
       "      <td>0.484067</td>\n",
       "      <td>0.571517</td>\n",
       "      <td>1.592181</td>\n",
       "    </tr>\n",
       "    <tr>\n",
       "      <th>2</th>\n",
       "      <td>Decision Tree</td>\n",
       "      <td>0.521449</td>\n",
       "      <td>0.603861</td>\n",
       "      <td>0.354685</td>\n",
       "    </tr>\n",
       "  </tbody>\n",
       "</table>\n",
       "</div>"
      ],
      "text/plain": [
       "                     classifier  train_score  test_score  training_time\n",
       "0           Logistic Regression     0.519119    0.570086       0.539535\n",
       "1  Gradient Boosting Classifier     0.484067    0.571517       1.592181\n",
       "2                 Decision Tree     0.521449    0.603861       0.354685"
      ]
     },
     "execution_count": 72,
     "metadata": {},
     "output_type": "execute_result"
    }
   ],
   "source": [
    "# Results of cross-validated fitting scheme\n",
    "# check out the github notebook for full details\n",
    "df_results = pd.read_csv('/Users/bechtel/Kaggle/NCAA_mens_tourney/fitting_results.csv')\n",
    "df_results"
   ]
  },
  {
   "cell_type": "markdown",
   "metadata": {},
   "source": [
    "I thought this was decent for the amount of time I was willing to invest, so I trained my model with all available data from 2003-2017, then predicted the probabilistic outcomes for all possible 2018 matchups and uploaded the results to Kaggle!"
   ]
  },
  {
   "cell_type": "markdown",
   "metadata": {},
   "source": [
    "## Track my Results\n",
    "\n",
    "Then comes the exciting part... seeing how my model stacks up against the competition. Since this was my first Kaggle competition, I got pretty obsessed with checking my current standing in the leaderboard. While waiting for Kaggle to update the leaderboard, however, I simply inputed the games into my model so that I could at least track my personal log-loss score with up-to-date game results. The code for that can be found on [Kaggle](https://www.kaggle.com/drwonka/calculate-up-to-date-log-loss)."
   ]
  },
  {
   "cell_type": "markdown",
   "metadata": {},
   "source": [
    "Other apps that allow you to visualize your predictions include an [html version](https://www.marksmath.org/visualization/kaggle_brackets/) and a [python module: bracketeer](https://github.com/cshaley/bracketeer) which is pictured on the top of the page.\n",
    "\n",
    "\n",
    "Currently I am at least in the [top 50%](https://www.kaggle.com/c/mens-machine-learning-competition-2018/leaderboard), even after the tough Virginia loss. \n",
    "\n",
    "At the end of the tournament I'll update as to my final ranking, but currently I am 329/934. \n",
    "\n",
    "\n",
    "<img src=\"http://jbechtel.github.io/images/kaggle_ncaa_competition_ranking_before_championship.png\" alt='[img: bracket]'>\n"
   ]
  },
  {
   "cell_type": "markdown",
   "metadata": {},
   "source": [
    "## Concluding Remarks\n",
    "\n",
    "Participating in this competition was a fun experience and I encourage any readers to enter it next year and also to explain your methodology in a blog post!\n",
    "\n"
   ]
  }
 ],
 "metadata": {
  "kernelspec": {
   "display_name": "Python 3",
   "language": "python",
   "name": "python3"
  },
  "language_info": {
   "codemirror_mode": {
    "name": "ipython",
    "version": 3
   },
   "file_extension": ".py",
   "mimetype": "text/x-python",
   "name": "python",
   "nbconvert_exporter": "python",
   "pygments_lexer": "ipython3",
   "version": "3.5.4"
  }
 },
 "nbformat": 4,
 "nbformat_minor": 2
}
