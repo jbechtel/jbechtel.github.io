{
 "cells": [
  {
   "cell_type": "markdown",
   "metadata": {},
   "source": [
    "<!-- PELICAN_BEGIN_SUMMARY -->\n",
    "\n",
    "TensorFlow developed by Google, is an open source implementation of computational graphs which make it perfect for implementing any type of neural network architecture you'd want. The python API and the related tutorials make it easy to rapidly prototype a model. However, I recently found myself in need of the C++ API, so I could insert a model into a project I've been working on in c++. \n",
    "\n",
    "This post shows how to install and access tensorflow as a c++ shared library. In this way you only have to go through the Bazel install process once, and then link your current program to the shared library using Makefiles for instance. \n",
    "\n",
    "\n",
    "\n",
    "<!-- PELICAN_END_SUMMARY -->"
   ]
  },
  {
   "cell_type": "code",
   "execution_count": null,
   "metadata": {},
   "outputs": [],
   "source": []
  }
 ],
 "metadata": {
  "kernelspec": {
   "display_name": "Python 3",
   "language": "python",
   "name": "python3"
  },
  "language_info": {
   "codemirror_mode": {
    "name": "ipython",
    "version": 3
   },
   "file_extension": ".py",
   "mimetype": "text/x-python",
   "name": "python",
   "nbconvert_exporter": "python",
   "pygments_lexer": "ipython3",
   "version": "3.5.4"
  }
 },
 "nbformat": 4,
 "nbformat_minor": 2
}
