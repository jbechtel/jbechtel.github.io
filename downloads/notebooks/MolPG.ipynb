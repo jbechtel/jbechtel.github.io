{
 "cells": [
  {
   "cell_type": "markdown",
   "metadata": {},
   "source": [
    "# Algorithm for finding simple 2D molecular point groups"
   ]
  },
  {
   "cell_type": "markdown",
   "metadata": {},
   "source": [
    "<!-- PELICAN_BEGIN_SUMMARY -->\n",
    "\n",
    "This post details an algorithm implemented in python for finding the symmetries of a molecule in 2D.\n",
    "\n",
    "<!-- PELICAN_END_SUMMARY -->"
   ]
  },
  {
   "cell_type": "markdown",
   "metadata": {},
   "source": [
    "## Fundamental symmetry relation\n",
    "\n",
    "Given a collection of $n$ coordinates as columns in a matrix $\\mathbf{R}$, centered at the origin, our goal is to find all orthogonal matrices $\\mathbf{S}$ for which:\n",
    "\n",
    "$$ \\mathbf{S} \\mathbf{R} = \\mathbf{R} \\mathbf{M} $$\n",
    "\n",
    "where $\\mathbf{M}$ is an $n\\times n$ orthogonal permutation matrix of 1's and 0's with only one nonzero entry per row/column. In words, this relation means that a spatial isometry (by which we mean a rotation or reflection of space) applied to the molecule is equivalent to a permutation of the atoms. \n",
    "\n",
    "Some important points can be made given this relationship:\n",
    "\n",
    "1). The molecular point group is isomorphic to a subgroup of the Permutation Group of $n$ elements. Since, we can enumerate all permutations, we should somehow be able to recover their corresponding point group operations.\n",
    "\n",
    "2). In the special case when $\\mathbf{R}$ contains only two atoms which are linearly indepedent, it is invertible. This gives us a means to generate possible spatial isometries, $\\mathbf{S}$, via $\\mathbf{S} = \\mathbf{R}_{\\text{new}} \\mathbf{R}^{-1}_{\\text{orig}}$, where $\\mathbf{R}_{\\text{orig}}$ and $\\mathbf{R}_{\\text{new}}$ are two different $2\\times2$ matrices formed from two columns of $\\mathbf{R}$.\n",
    "\n"
   ]
  },
  {
   "cell_type": "markdown",
   "metadata": {},
   "source": [
    "## Algorithm\n",
    "\n",
    "1). First enumerate all pairs of atoms contained in $\\mathbf{R}$ giving $\\mathbf{R}_{\\text{orig}}$ and $\\mathbf{R}_{\\text{new}}$. If the columns of $\\mathbf{R}_{\\text{orig}}$ are linearly dependent, it is possible that either a 180 degree rotation, or a reflection about the line connecting the two atoms is a symmetry operation of the molecule. \n",
    "\n",
    "2). If the columns are not collinear, then a possible symmetry operation is $\\mathbf{S} = \\mathbf{R}_{\\text{new}} \\mathbf{R}^{-1}_{\\text{orig}}$. However, to be a valid operation it must be orthogonal (unitary) and satisfy $\\mathbf{S}\\mathbf{S}^{\\top}=1$. If $\\mathbf{S}$ satisfies these conditions then it is added to a list of possible point group operations.\n",
    "\n",
    "3). Lastly, we test the operations $\\mathbf{S}$ on the whole molecule by verifying that there exist an $\\mathbf{M}$ for which $ \\mathbf{S} \\mathbf{R} = \\mathbf{R} \\mathbf{M}$. If this works we add $\\mathbf{S}$ to the list of symmetry  operations as long as it isn't already in the list."
   ]
  },
  {
   "cell_type": "code",
   "execution_count": null,
   "metadata": {},
   "outputs": [],
   "source": []
  }
 ],
 "metadata": {
  "kernelspec": {
   "display_name": "Python 3",
   "language": "python",
   "name": "python3"
  },
  "language_info": {
   "codemirror_mode": {
    "name": "ipython",
    "version": 3
   },
   "file_extension": ".py",
   "mimetype": "text/x-python",
   "name": "python",
   "nbconvert_exporter": "python",
   "pygments_lexer": "ipython3",
   "version": "3.5.4"
  }
 },
 "nbformat": 4,
 "nbformat_minor": 2
}
