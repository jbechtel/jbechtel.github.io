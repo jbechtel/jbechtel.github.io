{
 "cells": [
  {
   "cell_type": "markdown",
   "metadata": {},
   "source": [
    "# Naive Bayes Classifier: SMS - spam/ham"
   ]
  },
  {
   "cell_type": "markdown",
   "metadata": {},
   "source": [
    "1. Use sklearn.naive_bayes modules as the classifier to determine if a text message is SPAM or not (HAM).\n",
    "2. We will compare different approaches to feature selection CountVectorizer / tf-idf $c=\\sqrt{a^2}$\n",
    "3. We will compare different flavors of Naive Bayes: Gaussian, Multinomial, Bernoulli.\n",
    "\n",
    "$$c = \\sqrt{a^2 + b^2}$$"
   ]
  },
  {
   "cell_type": "markdown",
   "metadata": {},
   "source": [
    "## Import Modules\n",
    "Let's get the usual suspects for data science.\n",
    "Also we will use matplotlib and seaborn for plotting"
   ]
  },
  {
   "cell_type": "code",
   "execution_count": 1,
   "metadata": {},
   "outputs": [],
   "source": [
    "%matplotlib inline\n",
    "import matplotlib.pyplot as plt\n",
    "import numpy as np\n",
    "import pandas as pd\n",
    "from sklearn.naive_bayes import GaussianNB,MultinomialNB,BernoulliNB\n",
    "import csv\n",
    "import seaborn as sns\n",
    "from textblob import TextBlob\n",
    "from sklearn.feature_extraction.text import CountVectorizer, TfidfTransformer\n",
    "from sklearn.svm import SVC, LinearSVC\n",
    "from sklearn.metrics import classification_report, f1_score, accuracy_score, confusion_matrix\n",
    "from sklearn.pipeline import Pipeline\n",
    "from sklearn.model_selection import StratifiedKFold, cross_val_score, train_test_split, GridSearchCV, learning_curve \n",
    "from sklearn.tree import DecisionTreeClassifier "
   ]
  },
  {
   "cell_type": "markdown",
   "metadata": {},
   "source": [
    "## Import SMS data\n",
    "Use rstrip() to remove any additional whitespace after each message"
   ]
  },
  {
   "cell_type": "code",
   "execution_count": 3,
   "metadata": {
    "collapsed": true
   },
   "outputs": [],
   "source": [
    "messages = [ line.rstrip() for line in open('SMSSpamCollection')]"
   ]
  },
  {
   "cell_type": "markdown",
   "metadata": {},
   "source": [
    "Take a look at the first few messages"
   ]
  },
  {
   "cell_type": "code",
   "execution_count": 4,
   "metadata": {},
   "outputs": [
    {
     "name": "stdout",
     "output_type": "stream",
     "text": [
      "0 ham\tGo until jurong point, crazy.. Available only in bugis n great world la e buffet... Cine there got amore wat...\n",
      "1 ham\tOk lar... Joking wif u oni...\n",
      "2 spam\tFree entry in 2 a wkly comp to win FA Cup final tkts 21st May 2005. Text FA to 87121 to receive entry question(std txt rate)T&C's apply 08452810075over18's\n",
      "3 ham\tU dun say so early hor... U c already then say...\n",
      "4 ham\tNah I don't think he goes to usf, he lives around here though\n",
      "5 spam\tFreeMsg Hey there darling it's been 3 week's now and no word back! I'd like some fun you up for it still? Tb ok! XxX std chgs to send, £1.50 to rcv\n",
      "6 ham\tEven my brother is not like to speak with me. They treat me like aids patent.\n",
      "7 ham\tAs per your request 'Melle Melle (Oru Minnaminunginte Nurungu Vettam)' has been set as your callertune for all Callers. Press *9 to copy your friends Callertune\n",
      "8 spam\tWINNER!! As a valued network customer you have been selected to receivea £900 prize reward! To claim call 09061701461. Claim code KL341. Valid 12 hours only.\n",
      "9 spam\tHad your mobile 11 months or more? U R entitled to Update to the latest colour mobiles with camera for Free! Call The Mobile Update Co FREE on 08002986030\n"
     ]
    }
   ],
   "source": [
    "for number,entry in enumerate(messages[:10]):\n",
    "    print number, entry"
   ]
  },
  {
   "cell_type": "markdown",
   "metadata": {},
   "source": [
    "Now we'll create a dataframe to help digest the data. The columns are tab-separated. Instruct pandas not to use quotes when reading in fields: csv.QUOTE_NONE."
   ]
  },
  {
   "cell_type": "code",
   "execution_count": 5,
   "metadata": {
    "collapsed": true
   },
   "outputs": [],
   "source": [
    "data = pd.read_csv('SMSSpamCollection.txt',sep='\\t',names=[\"label\",\"message\"],quoting=csv.QUOTE_NONE)"
   ]
  },
  {
   "cell_type": "markdown",
   "metadata": {},
   "source": [
    "Let's get some info about our data set."
   ]
  },
  {
   "cell_type": "code",
   "execution_count": 6,
   "metadata": {},
   "outputs": [
    {
     "data": {
      "text/html": [
       "<div>\n",
       "<style scoped>\n",
       "    .dataframe tbody tr th:only-of-type {\n",
       "        vertical-align: middle;\n",
       "    }\n",
       "\n",
       "    .dataframe tbody tr th {\n",
       "        vertical-align: top;\n",
       "    }\n",
       "\n",
       "    .dataframe thead th {\n",
       "        text-align: right;\n",
       "    }\n",
       "</style>\n",
       "<table border=\"1\" class=\"dataframe\">\n",
       "  <thead>\n",
       "    <tr style=\"text-align: right;\">\n",
       "      <th></th>\n",
       "      <th>label</th>\n",
       "      <th>message</th>\n",
       "    </tr>\n",
       "  </thead>\n",
       "  <tbody>\n",
       "    <tr>\n",
       "      <th>count</th>\n",
       "      <td>5574</td>\n",
       "      <td>5574</td>\n",
       "    </tr>\n",
       "    <tr>\n",
       "      <th>unique</th>\n",
       "      <td>2</td>\n",
       "      <td>5171</td>\n",
       "    </tr>\n",
       "    <tr>\n",
       "      <th>top</th>\n",
       "      <td>ham</td>\n",
       "      <td>Sorry, I'll call later</td>\n",
       "    </tr>\n",
       "    <tr>\n",
       "      <th>freq</th>\n",
       "      <td>4827</td>\n",
       "      <td>30</td>\n",
       "    </tr>\n",
       "  </tbody>\n",
       "</table>\n",
       "</div>"
      ],
      "text/plain": [
       "       label                 message\n",
       "count   5574                    5574\n",
       "unique     2                    5171\n",
       "top      ham  Sorry, I'll call later\n",
       "freq    4827                      30"
      ]
     },
     "execution_count": 6,
     "metadata": {},
     "output_type": "execute_result"
    }
   ],
   "source": [
    "data.describe()"
   ]
  },
  {
   "cell_type": "markdown",
   "metadata": {},
   "source": [
    "So we have a corpus of 5574 messages, of which 5171 are unique. Most of them (4827) are actually messages (HAM), of which 'Sorry, I'll call later' is the most frequent. "
   ]
  },
  {
   "cell_type": "code",
   "execution_count": 7,
   "metadata": {},
   "outputs": [
    {
     "data": {
      "text/html": [
       "<div>\n",
       "<style scoped>\n",
       "    .dataframe tbody tr th:only-of-type {\n",
       "        vertical-align: middle;\n",
       "    }\n",
       "\n",
       "    .dataframe tbody tr th {\n",
       "        vertical-align: top;\n",
       "    }\n",
       "\n",
       "    .dataframe thead tr th {\n",
       "        text-align: left;\n",
       "    }\n",
       "\n",
       "    .dataframe thead tr:last-of-type th {\n",
       "        text-align: right;\n",
       "    }\n",
       "</style>\n",
       "<table border=\"1\" class=\"dataframe\">\n",
       "  <thead>\n",
       "    <tr>\n",
       "      <th></th>\n",
       "      <th colspan=\"4\" halign=\"left\">message</th>\n",
       "    </tr>\n",
       "    <tr>\n",
       "      <th></th>\n",
       "      <th>count</th>\n",
       "      <th>unique</th>\n",
       "      <th>top</th>\n",
       "      <th>freq</th>\n",
       "    </tr>\n",
       "    <tr>\n",
       "      <th>label</th>\n",
       "      <th></th>\n",
       "      <th></th>\n",
       "      <th></th>\n",
       "      <th></th>\n",
       "    </tr>\n",
       "  </thead>\n",
       "  <tbody>\n",
       "    <tr>\n",
       "      <th>ham</th>\n",
       "      <td>4827</td>\n",
       "      <td>4518</td>\n",
       "      <td>Sorry, I'll call later</td>\n",
       "      <td>30</td>\n",
       "    </tr>\n",
       "    <tr>\n",
       "      <th>spam</th>\n",
       "      <td>747</td>\n",
       "      <td>653</td>\n",
       "      <td>Please call our customer service representativ...</td>\n",
       "      <td>4</td>\n",
       "    </tr>\n",
       "  </tbody>\n",
       "</table>\n",
       "</div>"
      ],
      "text/plain": [
       "      message                                                               \n",
       "        count unique                                                top freq\n",
       "label                                                                       \n",
       "ham      4827   4518                             Sorry, I'll call later   30\n",
       "spam      747    653  Please call our customer service representativ...    4"
      ]
     },
     "execution_count": 7,
     "metadata": {},
     "output_type": "execute_result"
    }
   ],
   "source": [
    "data.groupby('label').describe()"
   ]
  },
  {
   "cell_type": "markdown",
   "metadata": {},
   "source": [
    "Let's introduce another field into the data frame: 'length.' Which is the number of words in the message"
   ]
  },
  {
   "cell_type": "code",
   "execution_count": 8,
   "metadata": {},
   "outputs": [
    {
     "data": {
      "text/html": [
       "<div>\n",
       "<style scoped>\n",
       "    .dataframe tbody tr th:only-of-type {\n",
       "        vertical-align: middle;\n",
       "    }\n",
       "\n",
       "    .dataframe tbody tr th {\n",
       "        vertical-align: top;\n",
       "    }\n",
       "\n",
       "    .dataframe thead th {\n",
       "        text-align: right;\n",
       "    }\n",
       "</style>\n",
       "<table border=\"1\" class=\"dataframe\">\n",
       "  <thead>\n",
       "    <tr style=\"text-align: right;\">\n",
       "      <th></th>\n",
       "      <th>label</th>\n",
       "      <th>message</th>\n",
       "      <th>length</th>\n",
       "    </tr>\n",
       "  </thead>\n",
       "  <tbody>\n",
       "    <tr>\n",
       "      <th>0</th>\n",
       "      <td>ham</td>\n",
       "      <td>Go until jurong point, crazy.. Available only ...</td>\n",
       "      <td>111</td>\n",
       "    </tr>\n",
       "    <tr>\n",
       "      <th>1</th>\n",
       "      <td>ham</td>\n",
       "      <td>Ok lar... Joking wif u oni...</td>\n",
       "      <td>29</td>\n",
       "    </tr>\n",
       "    <tr>\n",
       "      <th>2</th>\n",
       "      <td>spam</td>\n",
       "      <td>Free entry in 2 a wkly comp to win FA Cup fina...</td>\n",
       "      <td>155</td>\n",
       "    </tr>\n",
       "    <tr>\n",
       "      <th>3</th>\n",
       "      <td>ham</td>\n",
       "      <td>U dun say so early hor... U c already then say...</td>\n",
       "      <td>49</td>\n",
       "    </tr>\n",
       "    <tr>\n",
       "      <th>4</th>\n",
       "      <td>ham</td>\n",
       "      <td>Nah I don't think he goes to usf, he lives aro...</td>\n",
       "      <td>61</td>\n",
       "    </tr>\n",
       "  </tbody>\n",
       "</table>\n",
       "</div>"
      ],
      "text/plain": [
       "  label                                            message  length\n",
       "0   ham  Go until jurong point, crazy.. Available only ...     111\n",
       "1   ham                      Ok lar... Joking wif u oni...      29\n",
       "2  spam  Free entry in 2 a wkly comp to win FA Cup fina...     155\n",
       "3   ham  U dun say so early hor... U c already then say...      49\n",
       "4   ham  Nah I don't think he goes to usf, he lives aro...      61"
      ]
     },
     "execution_count": 8,
     "metadata": {},
     "output_type": "execute_result"
    }
   ],
   "source": [
    "data['length']=data['message'].map(lambda msg: len(msg))\n",
    "data.head()"
   ]
  },
  {
   "cell_type": "markdown",
   "metadata": {},
   "source": [
    "Now let's look at the distribution of lengths for each label"
   ]
  },
  {
   "cell_type": "code",
   "execution_count": 9,
   "metadata": {},
   "outputs": [
    {
     "data": {
      "text/plain": [
       "<matplotlib.axes._subplots.AxesSubplot at 0x1a0c472590>"
      ]
     },
     "execution_count": 9,
     "metadata": {},
     "output_type": "execute_result"
    },
    {
     "data": {
      "image/png": "[encoded data removed]",
      "text/plain": [
       "<matplotlib.figure.Figure at 0x10588bcd0>"
      ]
     },
     "metadata": {},
     "output_type": "display_data"
    }
   ],
   "source": [
    "sns.distplot(data['length'])"
   ]
  },
  {
   "cell_type": "markdown",
   "metadata": {},
   "source": [
    "Now see some statistics on the lengths of messages"
   ]
  },
  {
   "cell_type": "code",
   "execution_count": 10,
   "metadata": {},
   "outputs": [
    {
     "data": {
      "text/plain": [
       "count    5574.000000\n",
       "mean       80.604593\n",
       "std        59.919970\n",
       "min         2.000000\n",
       "25%        36.000000\n",
       "50%        62.000000\n",
       "75%       122.000000\n",
       "max       910.000000\n",
       "Name: length, dtype: float64"
      ]
     },
     "execution_count": 10,
     "metadata": {},
     "output_type": "execute_result"
    }
   ],
   "source": [
    "data['length'].describe()"
   ]
  },
  {
   "cell_type": "markdown",
   "metadata": {},
   "source": [
    "What is the very long message?"
   ]
  },
  {
   "cell_type": "code",
   "execution_count": 11,
   "metadata": {},
   "outputs": [
    {
     "name": "stdout",
     "output_type": "stream",
     "text": [
      "[\"For me the love should start with attraction.i should feel that I need her every time around me.she should be the first thing which comes in my thoughts.I would start the day and end it with her.she should be there every time I dream.love will be then when my every breath has her name.my life should happen around her.my life will be named to her.I would cry for her.will give all my happiness and take all her sorrows.I will be ready to fight with anyone for her.I will be in love when I will be doing the craziest things for her.love will be when I don't have to proove anyone that my girl is the most beautiful lady on the whole planet.I will always be singing praises for her.love will be when I start up making chicken curry and end up makiing sambar.life will be the most beautiful then.will get every morning and thank god for the day because she is with me.I would like to say a lot..will tell later..\"]\n"
     ]
    }
   ],
   "source": [
    "print list(data.message[data.length>900])"
   ]
  },
  {
   "cell_type": "markdown",
   "metadata": {},
   "source": [
    "View the length distributions by label"
   ]
  },
  {
   "cell_type": "code",
   "execution_count": 12,
   "metadata": {},
   "outputs": [
    {
     "data": {
      "text/plain": [
       "array([<matplotlib.axes._subplots.AxesSubplot object at 0x1a0d1eca10>,\n",
       "       <matplotlib.axes._subplots.AxesSubplot object at 0x1a0cd53250>], dtype=object)"
      ]
     },
     "execution_count": 12,
     "metadata": {},
     "output_type": "execute_result"
    },
    {
     "data": {
      "image/png": "[encoded data removed]",
      "text/plain": [
       "<matplotlib.figure.Figure at 0x1a0cc0b0d0>"
      ]
     },
     "metadata": {},
     "output_type": "display_data"
    }
   ],
   "source": [
    "data.hist(column='length', by='label', bins=50)"
   ]
  },
  {
   "cell_type": "markdown",
   "metadata": {},
   "source": [
    "With seaborn this can be done using facet grid"
   ]
  },
  {
   "cell_type": "code",
   "execution_count": 13,
   "metadata": {},
   "outputs": [
    {
     "data": {
      "text/plain": [
       "<seaborn.axisgrid.FacetGrid at 0x1058c1690>"
      ]
     },
     "execution_count": 13,
     "metadata": {},
     "output_type": "execute_result"
    },
    {
     "data": {
      "image/png": "[encoded data removed]",
      "text/plain": [
       "<matplotlib.figure.Figure at 0x1a0cbc2ed0>"
      ]
     },
     "metadata": {},
     "output_type": "display_data"
    }
   ],
   "source": [
    "facet = sns.FacetGrid(data,hue='label',col='label')\n",
    "facet.map(sns.distplot,'length')"
   ]
  },
  {
   "cell_type": "markdown",
   "metadata": {},
   "source": [
    "## Preprocessing\n",
    "Now we need to take out symbols and punctuation to get a better representation of the message\n",
    "\n",
    "First, we convert everything to unicode, then use the TextBlob module to extract words..."
   ]
  },
  {
   "cell_type": "code",
   "execution_count": 14,
   "metadata": {
    "collapsed": true
   },
   "outputs": [],
   "source": [
    "def split_into_tokens(message):\n",
    "    message=unicode(message,'utf8')\n",
    "    return TextBlob(message).words"
   ]
  },
  {
   "cell_type": "code",
   "execution_count": 15,
   "metadata": {},
   "outputs": [
    {
     "data": {
      "text/plain": [
       "0    Go until jurong point, crazy.. Available only ...\n",
       "1                        Ok lar... Joking wif u oni...\n",
       "2    Free entry in 2 a wkly comp to win FA Cup fina...\n",
       "3    U dun say so early hor... U c already then say...\n",
       "4    Nah I don't think he goes to usf, he lives aro...\n",
       "Name: message, dtype: object"
      ]
     },
     "execution_count": 15,
     "metadata": {},
     "output_type": "execute_result"
    }
   ],
   "source": [
    "data.message.head()"
   ]
  },
  {
   "cell_type": "code",
   "execution_count": 16,
   "metadata": {},
   "outputs": [
    {
     "data": {
      "text/plain": [
       "0    [Go, until, jurong, point, crazy, Available, o...\n",
       "1                       [Ok, lar, Joking, wif, u, oni]\n",
       "2    [Free, entry, in, 2, a, wkly, comp, to, win, F...\n",
       "3    [U, dun, say, so, early, hor, U, c, already, t...\n",
       "4    [Nah, I, do, n't, think, he, goes, to, usf, he...\n",
       "Name: message, dtype: object"
      ]
     },
     "execution_count": 16,
     "metadata": {},
     "output_type": "execute_result"
    }
   ],
   "source": [
    "data.message.head().apply(split_into_tokens)"
   ]
  },
  {
   "cell_type": "code",
   "execution_count": 17,
   "metadata": {},
   "outputs": [
    {
     "data": {
      "text/plain": [
       "TextBlob(\"Learning Naive Bayes is Fun!\")"
      ]
     },
     "execution_count": 17,
     "metadata": {},
     "output_type": "execute_result"
    }
   ],
   "source": [
    "TextBlob('Learning Naive Bayes is Fun!')"
   ]
  },
  {
   "cell_type": "markdown",
   "metadata": {},
   "source": [
    "Now reduce words to their base form 'lemmas'"
   ]
  },
  {
   "cell_type": "code",
   "execution_count": 18,
   "metadata": {
    "collapsed": true
   },
   "outputs": [],
   "source": [
    "def split_into_lemmas(message):\n",
    "    message=unicode(message,'utf8').lower()\n",
    "    words = TextBlob(message).words\n",
    "    return [word.lemma for word in words]"
   ]
  },
  {
   "cell_type": "code",
   "execution_count": 19,
   "metadata": {},
   "outputs": [
    {
     "data": {
      "text/plain": [
       "0    [go, until, jurong, point, crazy, available, o...\n",
       "1                       [ok, lar, joking, wif, u, oni]\n",
       "2    [free, entry, in, 2, a, wkly, comp, to, win, f...\n",
       "3    [u, dun, say, so, early, hor, u, c, already, t...\n",
       "4    [nah, i, do, n't, think, he, go, to, usf, he, ...\n",
       "Name: message, dtype: object"
      ]
     },
     "execution_count": 19,
     "metadata": {},
     "output_type": "execute_result"
    }
   ],
   "source": [
    "data.message.head().apply(split_into_lemmas)"
   ]
  },
  {
   "cell_type": "code",
   "execution_count": 20,
   "metadata": {
    "collapsed": true
   },
   "outputs": [],
   "source": [
    "bow_transformer = CountVectorizer(analyzer=split_into_lemmas).fit(data['message'])\n"
   ]
  },
  {
   "cell_type": "code",
   "execution_count": 21,
   "metadata": {},
   "outputs": [
    {
     "name": "stdout",
     "output_type": "stream",
     "text": [
      "8859\n",
      "None\n"
     ]
    }
   ],
   "source": [
    "print len(bow_transformer.vocabulary_)\n",
    "print bow_transformer.get_stop_words()"
   ]
  },
  {
   "cell_type": "code",
   "execution_count": 22,
   "metadata": {},
   "outputs": [
    {
     "name": "stdout",
     "output_type": "stream",
     "text": [
      "Nah I don't think he goes to usf, he lives around here though\n"
     ]
    }
   ],
   "source": [
    "test_msg = data['message'][4]\n",
    "print test_msg"
   ]
  },
  {
   "cell_type": "code",
   "execution_count": 23,
   "metadata": {},
   "outputs": [
    {
     "name": "stdout",
     "output_type": "stream",
     "text": [
      "  (0, 1320)\t1\n",
      "  (0, 2770)\t1\n",
      "  (0, 3628)\t1\n",
      "  (0, 3858)\t2\n",
      "  (0, 3915)\t1\n",
      "  (0, 4098)\t1\n",
      "  (0, 4708)\t1\n",
      "  (0, 5316)\t1\n",
      "  (0, 5328)\t1\n",
      "  (0, 7709)\t1\n",
      "  (0, 7728)\t1\n",
      "  (0, 7801)\t1\n",
      "  (0, 8139)\t1\n",
      "(1, 8859)\n"
     ]
    }
   ],
   "source": [
    "test_bow = bow_transformer.transform([test_msg])\n",
    "print test_bow\n",
    "print test_bow.shape"
   ]
  },
  {
   "cell_type": "markdown",
   "metadata": {},
   "source": [
    "which entry has 2 words?"
   ]
  },
  {
   "cell_type": "code",
   "execution_count": 24,
   "metadata": {},
   "outputs": [
    {
     "name": "stdout",
     "output_type": "stream",
     "text": [
      "he\n"
     ]
    }
   ],
   "source": [
    "print bow_transformer.get_feature_names()[3858]"
   ]
  },
  {
   "cell_type": "code",
   "execution_count": 25,
   "metadata": {
    "collapsed": true
   },
   "outputs": [],
   "source": [
    "data_bow = bow_transformer.transform(data['message'])"
   ]
  },
  {
   "cell_type": "code",
   "execution_count": 26,
   "metadata": {},
   "outputs": [
    {
     "name": "stdout",
     "output_type": "stream",
     "text": [
      "now we have a sparse matrix of shape (5574, 8859)\n",
      "with 80338 number of nonzer entries\n",
      "Sparsity: 0.16%\n"
     ]
    }
   ],
   "source": [
    "print 'now we have a sparse matrix of shape', data_bow.shape\n",
    "print 'with {} number of nonzer entries'.format(data_bow.nnz)\n",
    "print 'Sparsity: {:.2f}%'.format(100. * data_bow.nnz \\\n",
    "                                 / (data_bow.shape[0] * data_bow.shape[1]))"
   ]
  },
  {
   "cell_type": "code",
   "execution_count": 27,
   "metadata": {},
   "outputs": [
    {
     "name": "stdout",
     "output_type": "stream",
     "text": [
      "CPU times: user 23.6 ms, sys: 2.05 ms, total: 25.6 ms\n",
      "Wall time: 29.6 ms\n"
     ]
    }
   ],
   "source": [
    "% time spam_detector_MNB = MultinomialNB().fit(data_bow,data['label'])"
   ]
  },
  {
   "cell_type": "code",
   "execution_count": 28,
   "metadata": {},
   "outputs": [
    {
     "name": "stdout",
     "output_type": "stream",
     "text": [
      "CPU times: user 1.36 s, sys: 1.02 s, total: 2.37 s\n",
      "Wall time: 3.91 s\n"
     ]
    }
   ],
   "source": [
    "% time spam_detector_GNB = GaussianNB().fit(data_bow.toarray(),data['label'])"
   ]
  },
  {
   "cell_type": "code",
   "execution_count": 29,
   "metadata": {},
   "outputs": [
    {
     "name": "stdout",
     "output_type": "stream",
     "text": [
      "CPU times: user 26 ms, sys: 4.93 ms, total: 30.9 ms\n",
      "Wall time: 32.2 ms\n"
     ]
    }
   ],
   "source": [
    "% time spam_detector_BNB = BernoulliNB().fit(data_bow,data['label'])"
   ]
  },
  {
   "cell_type": "code",
   "execution_count": 32,
   "metadata": {},
   "outputs": [
    {
     "name": "stdout",
     "output_type": "stream",
     "text": [
      "['ham']\n",
      "Nah I don't think he goes to usf, he lives around here though\n"
     ]
    }
   ],
   "source": [
    "print spam_detector_MNB.predict(test_bow)\n",
    "print test_msg"
   ]
  },
  {
   "cell_type": "code",
   "execution_count": 34,
   "metadata": {},
   "outputs": [
    {
     "name": "stdout",
     "output_type": "stream",
     "text": [
      "[[  1.00000000e+00   1.99090554e-13]]\n"
     ]
    }
   ],
   "source": [
    "print spam_detector_MNB.predict_proba(test_bow)"
   ]
  },
  {
   "cell_type": "code",
   "execution_count": 35,
   "metadata": {},
   "outputs": [
    {
     "name": "stdout",
     "output_type": "stream",
     "text": [
      "  (0, 1320)\t1\n",
      "  (0, 2770)\t1\n",
      "  (0, 3628)\t1\n",
      "  (0, 3858)\t2\n",
      "  (0, 3915)\t1\n",
      "  (0, 4098)\t1\n",
      "  (0, 4708)\t1\n",
      "  (0, 5316)\t1\n",
      "  (0, 5328)\t1\n",
      "  (0, 7709)\t1\n",
      "  (0, 7728)\t1\n",
      "  (0, 7801)\t1\n",
      "  (0, 8139)\t1\n"
     ]
    }
   ],
   "source": [
    "print test_bow"
   ]
  },
  {
   "cell_type": "markdown",
   "metadata": {},
   "source": [
    "ok let's test predictive power between MNB,GNB,BBB (multinomial,gaussian,bernollui)\n",
    "We want to set up a cross validation pipeline using Bernoulli and Multinmoial Classifiers.\n",
    "First we need a training set and test set...\n",
    "\n",
    "Use 80% of the data to train, 20% to test using train_test_split()"
   ]
  },
  {
   "cell_type": "code",
   "execution_count": 37,
   "metadata": {},
   "outputs": [
    {
     "name": "stdout",
     "output_type": "stream",
     "text": [
      "4459 1115\n"
     ]
    }
   ],
   "source": [
    "msg_train, msg_test, label_train, label_test = \\\n",
    "    train_test_split(data['message'],data['label'],test_size=0.2)\n",
    "print len(msg_train), len(msg_test)"
   ]
  },
  {
   "cell_type": "markdown",
   "metadata": {},
   "source": [
    "Create a Pipeline which allows multiple steps to be performed on the input data\n",
    "\n",
    "1. Vectorize the words\n",
    "2. Weight using the TF-IDF scheme\n",
    "3. Specify the classifier"
   ]
  },
  {
   "cell_type": "code",
   "execution_count": 38,
   "metadata": {
    "collapsed": true
   },
   "outputs": [],
   "source": [
    "pipeline=Pipeline([\n",
    "    ('bow', CountVectorizer(analyzer=split_into_lemmas)), #strings to lemmas\n",
    "    ('tfidf', TfidfTransformer()), #weighted TF-IDF\n",
    "    ('classifier', MultinomialNB()) # Naive Bayes Classifier\n",
    "])"
   ]
  },
  {
   "cell_type": "markdown",
   "metadata": {},
   "source": [
    "Further subdivide the training data using Stratified Cross Validation, to make sure that our model is stable to different training sets. "
   ]
  },
  {
   "cell_type": "code",
   "execution_count": 39,
   "metadata": {},
   "outputs": [
    {
     "name": "stdout",
     "output_type": "stream",
     "text": [
      "[ 0.93064877  0.95973154  0.95964126  0.9573991   0.96188341  0.95067265\n",
      "  0.9573991   0.94157303  0.94382022  0.95280899]\n"
     ]
    }
   ],
   "source": [
    "scores = cross_val_score(pipeline, # convert raw messages to a model\n",
    "                        msg_train, # training data\n",
    "                        label_train, # training labels\n",
    "                        cv = 10, # split into 10 groups: 9 for training, 1 for testing\n",
    "                        scoring = 'accuracy', # scoring metric\n",
    "                        n_jobs = -1\n",
    "                        )\n",
    "print scores"
   ]
  },
  {
   "cell_type": "markdown",
   "metadata": {},
   "source": [
    "All scores are above 90% indicating decent accuracy and a stable model"
   ]
  },
  {
   "cell_type": "code",
   "execution_count": 40,
   "metadata": {},
   "outputs": [
    {
     "name": "stdout",
     "output_type": "stream",
     "text": [
      "0.951557807609 0.00951900372923\n"
     ]
    }
   ],
   "source": [
    "print scores.mean(), scores.std()"
   ]
  },
  {
   "cell_type": "markdown",
   "metadata": {},
   "source": [
    "Now let's see if we can find the best combination of parameters for a model.\n",
    "i.e.\n",
    "1. how much feature engineering to do: lemmas or tokens?\n",
    "2. what weighting scheme: just tf or iff as well?\n",
    "3. BernoulliNB or MultinomialNB"
   ]
  },
  {
   "cell_type": "code",
   "execution_count": 49,
   "metadata": {
    "collapsed": true
   },
   "outputs": [],
   "source": [
    "pipeline = Pipeline([\n",
    "    ('bow', CountVectorizer()),\n",
    "    ('tfidf', TfidfTransformer()),\n",
    "    ('classifier',MultinomialNB())\n",
    "])\n",
    "params = {\n",
    "    'tfidf__use_idf': (True,False),\n",
    "    'bow__analyzer' : (split_into_lemmas,split_into_tokens),\n",
    "}\n",
    "grid = GridSearchCV(\n",
    "    pipeline,\n",
    "    params,\n",
    "    refit = True,\n",
    "    n_jobs = -1,\n",
    "    scoring = 'accuracy',\n",
    "    cv = 10\n",
    ")"
   ]
  },
  {
   "cell_type": "code",
   "execution_count": 50,
   "metadata": {},
   "outputs": [
    {
     "name": "stdout",
     "output_type": "stream",
     "text": [
      "CPU times: user 6.82 s, sys: 562 ms, total: 7.38 s\n",
      "Wall time: 2min 53s\n",
      "[mean: 0.95156, std: 0.00952, params: {'tfidf__use_idf': True, 'bow__analyzer': <function split_into_lemmas at 0x1a0d1ed668>}, mean: 0.93564, std: 0.00992, params: {'tfidf__use_idf': False, 'bow__analyzer': <function split_into_lemmas at 0x1a0d1ed668>}, mean: 0.95133, std: 0.00857, params: {'tfidf__use_idf': True, 'bow__analyzer': <function split_into_tokens at 0x1a0cc15ed8>}, mean: 0.93519, std: 0.00952, params: {'tfidf__use_idf': False, 'bow__analyzer': <function split_into_tokens at 0x1a0cc15ed8>}]\n"
     ]
    },
    {
     "name": "stderr",
     "output_type": "stream",
     "text": [
      "/anaconda3/envs/py27/lib/python2.7/site-packages/sklearn/model_selection/_search.py:761: DeprecationWarning: The grid_scores_ attribute was deprecated in version 0.18 in favor of the more elaborate cv_results_ attribute. The grid_scores_ attribute will not be available from 0.20\n",
      "  DeprecationWarning)\n"
     ]
    }
   ],
   "source": [
    "%time MNB_detector = grid.fit(msg_train, label_train)"
   ]
  },
  {
   "cell_type": "code",
   "execution_count": 59,
   "metadata": {},
   "outputs": [
    {
     "name": "stdout",
     "output_type": "stream",
     "text": [
      "[ 0.95155865  0.93563579  0.95133438  0.93518726]\n",
      "[{'tfidf__use_idf': True, 'bow__analyzer': <function split_into_lemmas at 0x1a0d1ed668>}, {'tfidf__use_idf': False, 'bow__analyzer': <function split_into_lemmas at 0x1a0d1ed668>}, {'tfidf__use_idf': True, 'bow__analyzer': <function split_into_tokens at 0x1a0cc15ed8>}, {'tfidf__use_idf': False, 'bow__analyzer': <function split_into_tokens at 0x1a0cc15ed8>}]\n"
     ]
    }
   ],
   "source": [
    "print MNB_detector.cv_results_['mean_test_score']\n",
    "print MNB_detector.cv_results_['params']"
   ]
  },
  {
   "cell_type": "code",
   "execution_count": 52,
   "metadata": {
    "collapsed": true
   },
   "outputs": [],
   "source": [
    "pipeline_BNB = Pipeline([\n",
    "    ('bow' , CountVectorizer()),\n",
    "    ('tfidf', TfidfTransformer()),\n",
    "    ('classifier',BernoulliNB())\n",
    "])\n",
    "params = {\n",
    "    'tfidf__use_idf' : (True, False),\n",
    "    'bow__analyzer' : (split_into_lemmas,split_into_tokens)\n",
    "}\n",
    "grid_BNB = GridSearchCV(\n",
    "    pipeline,\n",
    "    params,\n",
    "    refit = True,\n",
    "    n_jobs = -1,\n",
    "    scoring = 'accuracy',\n",
    "    cv = 10\n",
    ")"
   ]
  },
  {
   "cell_type": "code",
   "execution_count": 53,
   "metadata": {},
   "outputs": [
    {
     "name": "stdout",
     "output_type": "stream",
     "text": [
      "CPU times: user 6.8 s, sys: 317 ms, total: 7.11 s\n",
      "Wall time: 2min 51s\n"
     ]
    }
   ],
   "source": [
    "%time BNB_detector = grid_BNB.fit(msg_train,label_train)"
   ]
  },
  {
   "cell_type": "code",
   "execution_count": 58,
   "metadata": {},
   "outputs": [
    {
     "name": "stdout",
     "output_type": "stream",
     "text": [
      "[ 0.95155865  0.93563579  0.95133438  0.93518726]\n",
      "[{'tfidf__use_idf': True, 'bow__analyzer': <function split_into_lemmas at 0x1a0d1ed668>}, {'tfidf__use_idf': False, 'bow__analyzer': <function split_into_lemmas at 0x1a0d1ed668>}, {'tfidf__use_idf': True, 'bow__analyzer': <function split_into_tokens at 0x1a0cc15ed8>}, {'tfidf__use_idf': False, 'bow__analyzer': <function split_into_tokens at 0x1a0cc15ed8>}]\n"
     ]
    }
   ],
   "source": [
    "print BNB_detector.cv_results_['mean_test_score']\n",
    "print BNB_detector.cv_results_['params']\n"
   ]
  },
  {
   "cell_type": "code",
   "execution_count": 62,
   "metadata": {},
   "outputs": [
    {
     "name": "stdout",
     "output_type": "stream",
     "text": [
      "['ham']\n",
      "[[ 0.99389696  0.00610304]]\n"
     ]
    }
   ],
   "source": [
    "print MNB_detector.predict(['hi mom how are you ?'])\n",
    "print MNB_detector.predict_proba(['hi mom how are you ?'])"
   ]
  },
  {
   "cell_type": "code",
   "execution_count": 65,
   "metadata": {},
   "outputs": [
    {
     "name": "stdout",
     "output_type": "stream",
     "text": [
      "['spam']\n",
      "[[ 0.36515646  0.63484354]]\n"
     ]
    }
   ],
   "source": [
    "print MNB_detector.predict(['WINNER! Credit for free!'])\n",
    "print MNB_detector.predict_proba(['WINNER! Credit for free!'])"
   ]
  },
  {
   "cell_type": "code",
   "execution_count": 66,
   "metadata": {},
   "outputs": [
    {
     "name": "stdout",
     "output_type": "stream",
     "text": [
      "[[960   0]\n",
      " [ 66  89]]\n",
      "             precision    recall  f1-score   support\n",
      "\n",
      "        ham       0.94      1.00      0.97       960\n",
      "       spam       1.00      0.57      0.73       155\n",
      "\n",
      "avg / total       0.94      0.94      0.93      1115\n",
      "\n"
     ]
    }
   ],
   "source": [
    "predictions = MNB_detector.predict(msg_test)\n",
    "print confusion_matrix(label_test, predictions)\n",
    "print classification_report(label_test, predictions)"
   ]
  },
  {
   "cell_type": "code",
   "execution_count": 69,
   "metadata": {
    "collapsed": true
   },
   "outputs": [],
   "source": [
    "pipeline_SVM = Pipeline([\n",
    "    ('bow', CountVectorizer(analyzer=split_into_lemmas)),\n",
    "    ('tfidf', TfidfTransformer()),\n",
    "    ('classifier', SVC())\n",
    "])\n",
    "\n",
    "param_svm = [\n",
    "    {'classifier__C' : [1,10,100,1000], 'classifier__kernel' : ['linear']},\n",
    "    {'classifier__C' : [1,10,100,1000], 'classifier__gamma': [0.001,0.0001], 'classifier__kernel': ['rbf']}\n",
    "]\n",
    "grid_SVM = GridSearchCV(\n",
    "    pipeline_SVM,\n",
    "    param_svm,\n",
    "    refit = True,\n",
    "    n_jobs = -1,\n",
    "    scoring = 'accuracy',\n",
    "    cv = 10\n",
    ")"
   ]
  },
  {
   "cell_type": "code",
   "execution_count": 70,
   "metadata": {},
   "outputs": [
    {
     "name": "stdout",
     "output_type": "stream",
     "text": [
      "CPU times: user 9.95 s, sys: 983 ms, total: 10.9 s\n",
      "Wall time: 11min 1s\n"
     ]
    }
   ],
   "source": [
    "%time SVM_detector = grid_SVM.fit(msg_train,label_train)"
   ]
  },
  {
   "cell_type": "code",
   "execution_count": 73,
   "metadata": {},
   "outputs": [
    {
     "name": "stdout",
     "output_type": "stream",
     "text": [
      "[ 0.98587127  0.9869926   0.9869926   0.9869926   0.86723481  0.86723481\n",
      "  0.86723481  0.86723481  0.97308814  0.86723481  0.9876654   0.97308814]\n",
      "[{'classifier__kernel': 'linear', 'classifier__C': 1}, {'classifier__kernel': 'linear', 'classifier__C': 10}, {'classifier__kernel': 'linear', 'classifier__C': 100}, {'classifier__kernel': 'linear', 'classifier__C': 1000}, {'classifier__gamma': 0.001, 'classifier__kernel': 'rbf', 'classifier__C': 1}, {'classifier__gamma': 0.0001, 'classifier__kernel': 'rbf', 'classifier__C': 1}, {'classifier__gamma': 0.001, 'classifier__kernel': 'rbf', 'classifier__C': 10}, {'classifier__gamma': 0.0001, 'classifier__kernel': 'rbf', 'classifier__C': 10}, {'classifier__gamma': 0.001, 'classifier__kernel': 'rbf', 'classifier__C': 100}, {'classifier__gamma': 0.0001, 'classifier__kernel': 'rbf', 'classifier__C': 100}, {'classifier__gamma': 0.001, 'classifier__kernel': 'rbf', 'classifier__C': 1000}, {'classifier__gamma': 0.0001, 'classifier__kernel': 'rbf', 'classifier__C': 1000}]\n"
     ]
    }
   ],
   "source": [
    "print SVM_detector.cv_results_['mean_test_score']\n",
    "print SVM_detector.cv_results_['params']"
   ]
  },
  {
   "cell_type": "code",
   "execution_count": 74,
   "metadata": {},
   "outputs": [
    {
     "name": "stdout",
     "output_type": "stream",
     "text": [
      "[[959   1]\n",
      " [ 12 143]]\n",
      "             precision    recall  f1-score   support\n",
      "\n",
      "        ham       0.99      1.00      0.99       960\n",
      "       spam       0.99      0.92      0.96       155\n",
      "\n",
      "avg / total       0.99      0.99      0.99      1115\n",
      "\n"
     ]
    }
   ],
   "source": [
    "predictions = SVM_detector.predict(msg_test)\n",
    "print confusion_matrix(label_test,predictions)\n",
    "print classification_report(label_test,predictions)"
   ]
  },
  {
   "cell_type": "code",
   "execution_count": 76,
   "metadata": {},
   "outputs": [
    {
     "name": "stdout",
     "output_type": "stream",
     "text": [
      "['ham']\n",
      "['spam']\n"
     ]
    }
   ],
   "source": [
    "print SVM_detector.predict(['hi mom how are you ?'])\n",
    "print SVM_detector.predict(['WINNER! Credit for free!'])"
   ]
  },
  {
   "cell_type": "code",
   "execution_count": null,
   "metadata": {
    "collapsed": true
   },
   "outputs": [],
   "source": [
    "correlation_matrix = data.corr()\n",
    "plt.figure(figsize=(10,8))\n",
    "ax = sns.heatmap(correlation_matrix, vmax=1, square=True,annot=True,cmap='RdBu_r')\n",
    "plt.title('Correlation matrix')\n",
    "plt.show()"
   ]
  },
  {
   "cell_type": "code",
   "execution_count": null,
   "metadata": {},
   "outputs": [],
   "source": [
    "scores = cross_val_score(pipeline, # specifies classifier\n",
    "                        data_train, # training data\n",
    "                        label_train, # training labels\n",
    "                        cv = 10, # split into 10 groups: 9 for training, 1 for testing\n",
    "                        scoring = 'accuracy', # scoring metric\n",
    "                        n_jobs = -1\n",
    "                        )\n",
    "print(scores)"
   ]
  },
  {
   "cell_type": "code",
   "execution_count": null,
   "metadata": {},
   "outputs": [],
   "source": [
    "% time wine_detector = grid.fit(data_train,label_train)"
   ]
  },
  {
   "cell_type": "code",
   "execution_count": null,
   "metadata": {},
   "outputs": [],
   "source": [
    "% time wine_detector = GaussianNB().fit(data_train,label_train)"
   ]
  },
  {
   "cell_type": "code",
   "execution_count": null,
   "metadata": {},
   "outputs": [],
   "source": [
    "predictions = wine_detector.predict(data_test)\n",
    "print('accuracy', accuracy_score(label_test, predictions))\n",
    "print('confusion matrix\\n', \n",
    "      confusion_matrix(label_test, predictions))\n",
    "print('(row=expected, col=predicted)')"
   ]
  },
  {
   "cell_type": "code",
   "execution_count": null,
   "metadata": {},
   "outputs": [],
   "source": [
    "print(svm_detector.best_estimator_)"
   ]
  },
  {
   "cell_type": "code",
   "execution_count": null,
   "metadata": {},
   "outputs": [],
   "source": []
  }
 ],
 "metadata": {
  "kernelspec": {
   "display_name": "Python 3",
   "language": "python",
   "name": "python3"
  },
  "language_info": {
   "codemirror_mode": {
    "name": "ipython",
    "version": 3
   },
   "file_extension": ".py",
   "mimetype": "text/x-python",
   "name": "python",
   "nbconvert_exporter": "python",
   "pygments_lexer": "ipython3",
   "version": "3.5.4"
  }
 },
 "nbformat": 4,
 "nbformat_minor": 2
}
